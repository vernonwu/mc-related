{
 "cells": [
  {
   "cell_type": "code",
   "execution_count": 1,
   "metadata": {},
   "outputs": [],
   "source": [
    "import sys\n",
    "import os\n",
    "import time\n",
    "import requests\n",
    "import re\n",
    "import itertools\n",
    "import string\n",
    "import math\n",
    "import concurrent.futures"
   ]
  },
  {
   "cell_type": "code",
   "execution_count": 3,
   "metadata": {},
   "outputs": [],
   "source": [
    "available_names = []\n",
    "invalid_names = []\n",
    "regex = re.compile(r'[^a-zA-Z0-9_.]')\n",
    "client = requests.Session()\n",
    "rate_limited = False\n",
    "start_time = time.time()"
   ]
  },
  {
   "cell_type": "markdown",
   "metadata": {},
   "source": [
    "`Example`: \n",
    "\n",
    "Generate all 4 character strings with 2 or less syllables, and check their availability."
   ]
  },
  {
   "cell_type": "code",
   "execution_count": 2,
   "metadata": {},
   "outputs": [],
   "source": [
    "def count_syllables(word):\n",
    "    # Regex pattern to match syllables\n",
    "    pattern = r'([aeiouyAEIOUY]+[^e.\\s])|([aiouyAEIOUY]+\\b)|(\\b[^aeiouy0-9.]+e\\b)'\n",
    "    # Find all non-overlapping matches of the regex pattern in the word\n",
    "    matches = re.findall(pattern, word)\n",
    "    # The number of syllables is the number of matches\n",
    "    return len(matches)\n",
    "\n",
    "username_list = [''.join(combination) for combination in itertools.product(string.ascii_lowercase, repeat=4)]\n",
    "\n",
    "# filter the ones with 2 syllables or less\n",
    "username_list = [username for username in username_list if count_syllables(username) <= 2]"
   ]
  },
  {
   "cell_type": "code",
   "execution_count": 4,
   "metadata": {},
   "outputs": [],
   "source": [
    "def check_username(username):\n",
    "    retry = True\n",
    "    while retry:\n",
    "        retry = False\n",
    "        result = bool(regex.search(username))\n",
    "        if not (result or (len(username) < 3) or (len(username) > 16)):\n",
    "            res = client.get('https://api.mojang.com/users/profiles/minecraft/' + username)\n",
    "            if res.status_code == 200:\n",
    "                pass\n",
    "            \n",
    "            elif res.status_code == 404:\n",
    "                print(f'{username}')\n",
    "                # from stackoverflow:\n",
    "                # concurrent.futures.ThreadPoolExecutor allow only one thread to access the common data structure or location in memory at a time; the threading.Lock() primitive is used to manage this, so race conditions don't occur!\n",
    "                available_names.append(username)\n",
    "\n",
    "            elif res.status_code == 429:\n",
    "                end_time = time.time()\n",
    "                global start_time\n",
    "                time_to_wait = math.ceil(200 - (end_time - start_time))\n",
    "                global rate_limited\n",
    "                if not rate_limited:\n",
    "                    rate_limited = True\n",
    "                    print(f'Request is being refused due to IP being rate limited. Waiting {time_to_wait} seconds before reattempting...')\n",
    "                retry = True\n",
    "                time.sleep(time_to_wait)\n",
    "                rate_limited = False\n",
    "                start_time = time.time()\n",
    "\n",
    "            else:\n",
    "                res.raise_for_status()\n",
    "                print(f'Unhandled HTTP status code: {res.status_code}. Exiting...')\n",
    "                sys.exit()\n",
    "                \n",
    "        else:\n",
    "            print(f'{username} is an invalid username.')\n",
    "            invalid_names.append(username)"
   ]
  },
  {
   "cell_type": "code",
   "execution_count": null,
   "metadata": {},
   "outputs": [],
   "source": [
    "with concurrent.futures.ThreadPoolExecutor() as executor:\n",
    "    try:\n",
    "        executor.map(check_username, username_list)\n",
    "    except Exception as exc:\n",
    "        print(f'There is a problem: {exc}. Exiting...')\n",
    "        sys.exit()\n",
    "print()\n",
    "print(f'Available username(s): {available_names}')\n",
    "if invalid_names:\n",
    "    print(f'Invalid username(s): {invalid_names}')"
   ]
  }
 ],
 "metadata": {
  "kernelspec": {
   "display_name": "python311",
   "language": "python",
   "name": "python3"
  },
  "language_info": {
   "codemirror_mode": {
    "name": "ipython",
    "version": 3
   },
   "file_extension": ".py",
   "mimetype": "text/x-python",
   "name": "python",
   "nbconvert_exporter": "python",
   "pygments_lexer": "ipython3",
   "version": "3.11.6"
  }
 },
 "nbformat": 4,
 "nbformat_minor": 2
}
